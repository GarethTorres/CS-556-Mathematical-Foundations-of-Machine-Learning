{
  "cells": [
    {
      "cell_type": "markdown",
      "metadata": {
        "id": "pKFA8zAHWiz4"
      },
      "source": [
        "# Classification with Logistic Regression and SVM\n",
        "\n",
        "For this project we will be working with the [Titanic Data Set from Kaggle](https://www.kaggle.com/c/titanic). We'll be trying to predict a classification- survival or deceased.\n",
        "\n",
        "## Import Libraries\n",
        "Import all necessary libraries\n"
      ]
    },
    {
      "cell_type": "code",
      "execution_count": 250,
      "metadata": {
        "id": "NFiJtDB0Wiz-"
      },
      "outputs": [],
      "source": [
        "# Import all necessary libraries\n",
        "import numpy as np\n",
        "import pandas as pd\n",
        "import seaborn as sns\n",
        "import matplotlib.pyplot as plt\n",
        "from sklearn.linear_model import LogisticRegression\n",
        "from sklearn.svm import SVC\n",
        "from sklearn.model_selection import GridSearchCV\n",
        "from sklearn.metrics import classification_report, recall_score, precision_score, f1_score ,confusion_matrix\n",
        "from sklearn.model_selection import train_test_split\n",
        "plt.style.use('seaborn-bright')\n",
        "%matplotlib inline"
      ]
    },
    {
      "cell_type": "markdown",
      "metadata": {
        "id": "aGrdrSwlWiz_"
      },
      "source": [
        "### The Data\n",
        "Read the train dataset in to a pandas dataframe"
      ]
    },
    {
      "cell_type": "code",
      "execution_count": 251,
      "metadata": {
        "colab": {
          "base_uri": "https://localhost:8080/",
          "height": 206
        },
        "id": "gdt-no47Wi0A",
        "outputId": "73c47b22-b3c8-4f58-fbad-2143c24909b1"
      },
      "outputs": [
        {
          "output_type": "execute_result",
          "data": {
            "text/plain": [
              "   Survived  Pclass     Sex   Age  SibSp  Parch     Fare Cabin Embarked\n",
              "0         0       3    male  22.0      1      0   7.2500   NaN        S\n",
              "1         1       1  female  38.0      1      0  71.2833   C85        C\n",
              "2         1       3  female  26.0      0      0   7.9250   NaN        S\n",
              "3         1       1  female  35.0      1      0  53.1000  C123        S\n",
              "4         0       3    male  35.0      0      0   8.0500   NaN        S"
            ],
            "text/html": [
              "\n",
              "  <div id=\"df-eb45b8f0-31bc-4d81-ada0-305e8db41408\">\n",
              "    <div class=\"colab-df-container\">\n",
              "      <div>\n",
              "<style scoped>\n",
              "    .dataframe tbody tr th:only-of-type {\n",
              "        vertical-align: middle;\n",
              "    }\n",
              "\n",
              "    .dataframe tbody tr th {\n",
              "        vertical-align: top;\n",
              "    }\n",
              "\n",
              "    .dataframe thead th {\n",
              "        text-align: right;\n",
              "    }\n",
              "</style>\n",
              "<table border=\"1\" class=\"dataframe\">\n",
              "  <thead>\n",
              "    <tr style=\"text-align: right;\">\n",
              "      <th></th>\n",
              "      <th>Survived</th>\n",
              "      <th>Pclass</th>\n",
              "      <th>Sex</th>\n",
              "      <th>Age</th>\n",
              "      <th>SibSp</th>\n",
              "      <th>Parch</th>\n",
              "      <th>Fare</th>\n",
              "      <th>Cabin</th>\n",
              "      <th>Embarked</th>\n",
              "    </tr>\n",
              "  </thead>\n",
              "  <tbody>\n",
              "    <tr>\n",
              "      <th>0</th>\n",
              "      <td>0</td>\n",
              "      <td>3</td>\n",
              "      <td>male</td>\n",
              "      <td>22.0</td>\n",
              "      <td>1</td>\n",
              "      <td>0</td>\n",
              "      <td>7.2500</td>\n",
              "      <td>NaN</td>\n",
              "      <td>S</td>\n",
              "    </tr>\n",
              "    <tr>\n",
              "      <th>1</th>\n",
              "      <td>1</td>\n",
              "      <td>1</td>\n",
              "      <td>female</td>\n",
              "      <td>38.0</td>\n",
              "      <td>1</td>\n",
              "      <td>0</td>\n",
              "      <td>71.2833</td>\n",
              "      <td>C85</td>\n",
              "      <td>C</td>\n",
              "    </tr>\n",
              "    <tr>\n",
              "      <th>2</th>\n",
              "      <td>1</td>\n",
              "      <td>3</td>\n",
              "      <td>female</td>\n",
              "      <td>26.0</td>\n",
              "      <td>0</td>\n",
              "      <td>0</td>\n",
              "      <td>7.9250</td>\n",
              "      <td>NaN</td>\n",
              "      <td>S</td>\n",
              "    </tr>\n",
              "    <tr>\n",
              "      <th>3</th>\n",
              "      <td>1</td>\n",
              "      <td>1</td>\n",
              "      <td>female</td>\n",
              "      <td>35.0</td>\n",
              "      <td>1</td>\n",
              "      <td>0</td>\n",
              "      <td>53.1000</td>\n",
              "      <td>C123</td>\n",
              "      <td>S</td>\n",
              "    </tr>\n",
              "    <tr>\n",
              "      <th>4</th>\n",
              "      <td>0</td>\n",
              "      <td>3</td>\n",
              "      <td>male</td>\n",
              "      <td>35.0</td>\n",
              "      <td>0</td>\n",
              "      <td>0</td>\n",
              "      <td>8.0500</td>\n",
              "      <td>NaN</td>\n",
              "      <td>S</td>\n",
              "    </tr>\n",
              "  </tbody>\n",
              "</table>\n",
              "</div>\n",
              "      <button class=\"colab-df-convert\" onclick=\"convertToInteractive('df-eb45b8f0-31bc-4d81-ada0-305e8db41408')\"\n",
              "              title=\"Convert this dataframe to an interactive table.\"\n",
              "              style=\"display:none;\">\n",
              "        \n",
              "  <svg xmlns=\"http://www.w3.org/2000/svg\" height=\"24px\"viewBox=\"0 0 24 24\"\n",
              "       width=\"24px\">\n",
              "    <path d=\"M0 0h24v24H0V0z\" fill=\"none\"/>\n",
              "    <path d=\"M18.56 5.44l.94 2.06.94-2.06 2.06-.94-2.06-.94-.94-2.06-.94 2.06-2.06.94zm-11 1L8.5 8.5l.94-2.06 2.06-.94-2.06-.94L8.5 2.5l-.94 2.06-2.06.94zm10 10l.94 2.06.94-2.06 2.06-.94-2.06-.94-.94-2.06-.94 2.06-2.06.94z\"/><path d=\"M17.41 7.96l-1.37-1.37c-.4-.4-.92-.59-1.43-.59-.52 0-1.04.2-1.43.59L10.3 9.45l-7.72 7.72c-.78.78-.78 2.05 0 2.83L4 21.41c.39.39.9.59 1.41.59.51 0 1.02-.2 1.41-.59l7.78-7.78 2.81-2.81c.8-.78.8-2.07 0-2.86zM5.41 20L4 18.59l7.72-7.72 1.47 1.35L5.41 20z\"/>\n",
              "  </svg>\n",
              "      </button>\n",
              "      \n",
              "  <style>\n",
              "    .colab-df-container {\n",
              "      display:flex;\n",
              "      flex-wrap:wrap;\n",
              "      gap: 12px;\n",
              "    }\n",
              "\n",
              "    .colab-df-convert {\n",
              "      background-color: #E8F0FE;\n",
              "      border: none;\n",
              "      border-radius: 50%;\n",
              "      cursor: pointer;\n",
              "      display: none;\n",
              "      fill: #1967D2;\n",
              "      height: 32px;\n",
              "      padding: 0 0 0 0;\n",
              "      width: 32px;\n",
              "    }\n",
              "\n",
              "    .colab-df-convert:hover {\n",
              "      background-color: #E2EBFA;\n",
              "      box-shadow: 0px 1px 2px rgba(60, 64, 67, 0.3), 0px 1px 3px 1px rgba(60, 64, 67, 0.15);\n",
              "      fill: #174EA6;\n",
              "    }\n",
              "\n",
              "    [theme=dark] .colab-df-convert {\n",
              "      background-color: #3B4455;\n",
              "      fill: #D2E3FC;\n",
              "    }\n",
              "\n",
              "    [theme=dark] .colab-df-convert:hover {\n",
              "      background-color: #434B5C;\n",
              "      box-shadow: 0px 1px 3px 1px rgba(0, 0, 0, 0.15);\n",
              "      filter: drop-shadow(0px 1px 2px rgba(0, 0, 0, 0.3));\n",
              "      fill: #FFFFFF;\n",
              "    }\n",
              "  </style>\n",
              "\n",
              "      <script>\n",
              "        const buttonEl =\n",
              "          document.querySelector('#df-eb45b8f0-31bc-4d81-ada0-305e8db41408 button.colab-df-convert');\n",
              "        buttonEl.style.display =\n",
              "          google.colab.kernel.accessAllowed ? 'block' : 'none';\n",
              "\n",
              "        async function convertToInteractive(key) {\n",
              "          const element = document.querySelector('#df-eb45b8f0-31bc-4d81-ada0-305e8db41408');\n",
              "          const dataTable =\n",
              "            await google.colab.kernel.invokeFunction('convertToInteractive',\n",
              "                                                     [key], {});\n",
              "          if (!dataTable) return;\n",
              "\n",
              "          const docLinkHtml = 'Like what you see? Visit the ' +\n",
              "            '<a target=\"_blank\" href=https://colab.research.google.com/notebooks/data_table.ipynb>data table notebook</a>'\n",
              "            + ' to learn more about interactive tables.';\n",
              "          element.innerHTML = '';\n",
              "          dataTable['output_type'] = 'display_data';\n",
              "          await google.colab.output.renderOutput(dataTable, element);\n",
              "          const docLink = document.createElement('div');\n",
              "          docLink.innerHTML = docLinkHtml;\n",
              "          element.appendChild(docLink);\n",
              "        }\n",
              "      </script>\n",
              "    </div>\n",
              "  </div>\n",
              "  "
            ]
          },
          "metadata": {},
          "execution_count": 251
        }
      ],
      "source": [
        "# import elements related to the classification model like Sex, Age, SibSp etc. and drop the elements which we don't need\n",
        "result_train = pd.read_csv(\"titanic_train.csv\")\n",
        "result_test = pd.read_csv(\"titanic_test.csv\")\n",
        "result_train.drop(['Name','Ticket','PassengerId'], axis = 1, inplace = True)\n",
        "result_test.drop(['Name','Ticket','PassengerId'], axis = 1, inplace = True)\n",
        "result_train.head()"
      ]
    },
    {
      "cell_type": "markdown",
      "metadata": {
        "id": "c4t8NoBqWi0B"
      },
      "source": [
        "# Exploratory Data Analysis\n",
        "\n",
        "## Missing Data\n",
        "Use the heatmap functionality of seaborn to see where we are missing data."
      ]
    },
    {
      "cell_type": "code",
      "execution_count": 252,
      "metadata": {
        "colab": {
          "base_uri": "https://localhost:8080/",
          "height": 279
        },
        "id": "lbpcQPbwWi0B",
        "outputId": "436ca16e-c797-42c7-a49a-69d3451d9e8f"
      },
      "outputs": [
        {
          "output_type": "execute_result",
          "data": {
            "text/plain": [
              "<matplotlib.axes._subplots.AxesSubplot at 0x7fe2e585a110>"
            ]
          },
          "metadata": {},
          "execution_count": 252
        },
        {
          "output_type": "display_data",
          "data": {
            "text/plain": [
              "<Figure size 432x288 with 1 Axes>"
            ],
            "image/png": "[encoded data removed]"
          },
          "metadata": {
            "needs_background": "light"
          }
        }
      ],
      "source": [
        "# Use the heatmap functionality to check where we are missing data.\n",
        "sns.heatmap(result_train.isnull(), cmap = 'cividis', cbar = False, yticklabels = False)"
      ]
    },
    {
      "cell_type": "markdown",
      "metadata": {
        "id": "E3GN2DvyWi0C"
      },
      "source": [
        "Create a histogram for the target variable \"Survived\". You can use the seaborn.countplot function. "
      ]
    },
    {
      "cell_type": "code",
      "execution_count": 253,
      "metadata": {
        "colab": {
          "base_uri": "https://localhost:8080/",
          "height": 296
        },
        "id": "FOye16nyWi0C",
        "outputId": "791d4bd5-4cfc-48ae-8b51-5ba592f99c4d"
      },
      "outputs": [
        {
          "output_type": "execute_result",
          "data": {
            "text/plain": [
              "<matplotlib.axes._subplots.AxesSubplot at 0x7fe2e57dc650>"
            ]
          },
          "metadata": {},
          "execution_count": 253
        },
        {
          "output_type": "display_data",
          "data": {
            "text/plain": [
              "<Figure size 432x288 with 1 Axes>"
            ],
            "image/png": "[encoded data removed]"
          },
          "metadata": {
            "needs_background": "light"
          }
        }
      ],
      "source": [
        "# Create a histogram for the target variable \"Survived\"\n",
        "sns.countplot(x = result_train['Survived'])"
      ]
    },
    {
      "cell_type": "markdown",
      "metadata": {
        "id": "yHi-pmewWi0D"
      },
      "source": [
        "Create a histogram for the target variable \"Survived\" for males and females. "
      ]
    },
    {
      "cell_type": "code",
      "execution_count": 254,
      "metadata": {
        "colab": {
          "base_uri": "https://localhost:8080/",
          "height": 351
        },
        "id": "ZhjQFA9OWi0E",
        "outputId": "4e484c53-2fbe-470e-b236-adb91668df0f"
      },
      "outputs": [
        {
          "output_type": "stream",
          "name": "stderr",
          "text": [
            "/usr/local/lib/python3.7/dist-packages/seaborn/_decorators.py:43: FutureWarning: Pass the following variable as a keyword arg: x. From version 0.12, the only valid positional argument will be `data`, and passing other arguments without an explicit keyword will result in an error or misinterpretation.\n",
            "  FutureWarning\n"
          ]
        },
        {
          "output_type": "execute_result",
          "data": {
            "text/plain": [
              "<matplotlib.axes._subplots.AxesSubplot at 0x7fe2e57b2750>"
            ]
          },
          "metadata": {},
          "execution_count": 254
        },
        {
          "output_type": "display_data",
          "data": {
            "text/plain": [
              "<Figure size 432x288 with 1 Axes>"
            ],
            "image/png": "[encoded data removed]"
          },
          "metadata": {
            "needs_background": "light"
          }
        }
      ],
      "source": [
        "# Create a histogram for the target variable \"Survived\" for different sex\n",
        "sns.countplot(result_train['Survived'], hue = result_train['Sex'])"
      ]
    },
    {
      "cell_type": "markdown",
      "metadata": {
        "id": "cAWHxH2iWi0E"
      },
      "source": [
        "Create a histogram for the  \"Pclass\" feature."
      ]
    },
    {
      "cell_type": "code",
      "execution_count": 255,
      "metadata": {
        "colab": {
          "base_uri": "https://localhost:8080/",
          "height": 351
        },
        "id": "422TJ8pGWi0E",
        "outputId": "ede145d0-c731-46f0-d0b4-26137d2f343f"
      },
      "outputs": [
        {
          "output_type": "stream",
          "name": "stderr",
          "text": [
            "/usr/local/lib/python3.7/dist-packages/seaborn/_decorators.py:43: FutureWarning: Pass the following variable as a keyword arg: x. From version 0.12, the only valid positional argument will be `data`, and passing other arguments without an explicit keyword will result in an error or misinterpretation.\n",
            "  FutureWarning\n"
          ]
        },
        {
          "output_type": "execute_result",
          "data": {
            "text/plain": [
              "<matplotlib.axes._subplots.AxesSubplot at 0x7fe2e577d910>"
            ]
          },
          "metadata": {},
          "execution_count": 255
        },
        {
          "output_type": "display_data",
          "data": {
            "text/plain": [
              "<Figure size 432x288 with 1 Axes>"
            ],
            "image/png": "[encoded data removed]"
          },
          "metadata": {
            "needs_background": "light"
          }
        }
      ],
      "source": [
        "# Create a histogram for the \"Pclass\"\n",
        "sns.countplot(result_train['Pclass'])"
      ]
    },
    {
      "cell_type": "markdown",
      "metadata": {
        "id": "iczUzNrHWi0F"
      },
      "source": [
        "## Data Cleaning\n",
        "Fill in the missing data points with the average age for the age column. Drop the Cabin columna and all the row that have feature Emkarked that is NaN. "
      ]
    },
    {
      "cell_type": "code",
      "execution_count": 256,
      "metadata": {
        "colab": {
          "base_uri": "https://localhost:8080/"
        },
        "id": "1dy2NTReWi0F",
        "outputId": "9f01dd29-0acd-495b-d009-fbd01db06388"
      },
      "outputs": [
        {
          "output_type": "execute_result",
          "data": {
            "text/plain": [
              "0      Q\n",
              "1      S\n",
              "2      Q\n",
              "3      S\n",
              "4      S\n",
              "      ..\n",
              "413    S\n",
              "414    C\n",
              "415    S\n",
              "416    S\n",
              "417    C\n",
              "Name: Embarked, Length: 418, dtype: object"
            ]
          },
          "metadata": {},
          "execution_count": 256
        }
      ],
      "source": [
        "# Fill in the missing data points with the average age for the age column\n",
        "result_train['Age'].fillna(result_train['Age'].mean(), inplace = True)\n",
        "result_test['Age'].fillna(result_test['Age'].mean(), inplace = True)\n",
        "\n",
        "# Drop the Cabin columna\n",
        "result_train.drop(['Cabin'], inplace = True, axis = 1)\n",
        "result_test.drop(['Cabin'], inplace = True, axis = 1)\n",
        "\n",
        "# Drop all the row that have feature Emkarked that is NaN.\n",
        "result_train[\"Embarked\"].dropna()\n",
        "result_test[\"Embarked\"].dropna()"
      ]
    },
    {
      "cell_type": "markdown",
      "metadata": {
        "id": "z1Og46cRWi0G"
      },
      "source": [
        "## Converting Categorical Features \n",
        "\n",
        "Use pandas.get_dummies() function to convert categorical data"
      ]
    },
    {
      "cell_type": "code",
      "execution_count": 257,
      "metadata": {
        "colab": {
          "base_uri": "https://localhost:8080/",
          "height": 206
        },
        "id": "k7EQH4mwWi0G",
        "outputId": "4aa2e783-5a9e-450a-8bd8-72362bdf29ea"
      },
      "outputs": [
        {
          "output_type": "execute_result",
          "data": {
            "text/plain": [
              "   Survived  Pclass   Age  SibSp  Parch     Fare  Sex_male  Embarked_Q  \\\n",
              "0         0       3  22.0      1      0   7.2500         1           0   \n",
              "1         1       1  38.0      1      0  71.2833         0           0   \n",
              "2         1       3  26.0      0      0   7.9250         0           0   \n",
              "3         1       1  35.0      1      0  53.1000         0           0   \n",
              "4         0       3  35.0      0      0   8.0500         1           0   \n",
              "\n",
              "   Embarked_S  \n",
              "0           1  \n",
              "1           0  \n",
              "2           1  \n",
              "3           1  \n",
              "4           1  "
            ],
            "text/html": [
              "\n",
              "  <div id=\"df-578ad93c-33e4-491a-82e2-6bd9179ace22\">\n",
              "    <div class=\"colab-df-container\">\n",
              "      <div>\n",
              "<style scoped>\n",
              "    .dataframe tbody tr th:only-of-type {\n",
              "        vertical-align: middle;\n",
              "    }\n",
              "\n",
              "    .dataframe tbody tr th {\n",
              "        vertical-align: top;\n",
              "    }\n",
              "\n",
              "    .dataframe thead th {\n",
              "        text-align: right;\n",
              "    }\n",
              "</style>\n",
              "<table border=\"1\" class=\"dataframe\">\n",
              "  <thead>\n",
              "    <tr style=\"text-align: right;\">\n",
              "      <th></th>\n",
              "      <th>Survived</th>\n",
              "      <th>Pclass</th>\n",
              "      <th>Age</th>\n",
              "      <th>SibSp</th>\n",
              "      <th>Parch</th>\n",
              "      <th>Fare</th>\n",
              "      <th>Sex_male</th>\n",
              "      <th>Embarked_Q</th>\n",
              "      <th>Embarked_S</th>\n",
              "    </tr>\n",
              "  </thead>\n",
              "  <tbody>\n",
              "    <tr>\n",
              "      <th>0</th>\n",
              "      <td>0</td>\n",
              "      <td>3</td>\n",
              "      <td>22.0</td>\n",
              "      <td>1</td>\n",
              "      <td>0</td>\n",
              "      <td>7.2500</td>\n",
              "      <td>1</td>\n",
              "      <td>0</td>\n",
              "      <td>1</td>\n",
              "    </tr>\n",
              "    <tr>\n",
              "      <th>1</th>\n",
              "      <td>1</td>\n",
              "      <td>1</td>\n",
              "      <td>38.0</td>\n",
              "      <td>1</td>\n",
              "      <td>0</td>\n",
              "      <td>71.2833</td>\n",
              "      <td>0</td>\n",
              "      <td>0</td>\n",
              "      <td>0</td>\n",
              "    </tr>\n",
              "    <tr>\n",
              "      <th>2</th>\n",
              "      <td>1</td>\n",
              "      <td>3</td>\n",
              "      <td>26.0</td>\n",
              "      <td>0</td>\n",
              "      <td>0</td>\n",
              "      <td>7.9250</td>\n",
              "      <td>0</td>\n",
              "      <td>0</td>\n",
              "      <td>1</td>\n",
              "    </tr>\n",
              "    <tr>\n",
              "      <th>3</th>\n",
              "      <td>1</td>\n",
              "      <td>1</td>\n",
              "      <td>35.0</td>\n",
              "      <td>1</td>\n",
              "      <td>0</td>\n",
              "      <td>53.1000</td>\n",
              "      <td>0</td>\n",
              "      <td>0</td>\n",
              "      <td>1</td>\n",
              "    </tr>\n",
              "    <tr>\n",
              "      <th>4</th>\n",
              "      <td>0</td>\n",
              "      <td>3</td>\n",
              "      <td>35.0</td>\n",
              "      <td>0</td>\n",
              "      <td>0</td>\n",
              "      <td>8.0500</td>\n",
              "      <td>1</td>\n",
              "      <td>0</td>\n",
              "      <td>1</td>\n",
              "    </tr>\n",
              "  </tbody>\n",
              "</table>\n",
              "</div>\n",
              "      <button class=\"colab-df-convert\" onclick=\"convertToInteractive('df-578ad93c-33e4-491a-82e2-6bd9179ace22')\"\n",
              "              title=\"Convert this dataframe to an interactive table.\"\n",
              "              style=\"display:none;\">\n",
              "        \n",
              "  <svg xmlns=\"http://www.w3.org/2000/svg\" height=\"24px\"viewBox=\"0 0 24 24\"\n",
              "       width=\"24px\">\n",
              "    <path d=\"M0 0h24v24H0V0z\" fill=\"none\"/>\n",
              "    <path d=\"M18.56 5.44l.94 2.06.94-2.06 2.06-.94-2.06-.94-.94-2.06-.94 2.06-2.06.94zm-11 1L8.5 8.5l.94-2.06 2.06-.94-2.06-.94L8.5 2.5l-.94 2.06-2.06.94zm10 10l.94 2.06.94-2.06 2.06-.94-2.06-.94-.94-2.06-.94 2.06-2.06.94z\"/><path d=\"M17.41 7.96l-1.37-1.37c-.4-.4-.92-.59-1.43-.59-.52 0-1.04.2-1.43.59L10.3 9.45l-7.72 7.72c-.78.78-.78 2.05 0 2.83L4 21.41c.39.39.9.59 1.41.59.51 0 1.02-.2 1.41-.59l7.78-7.78 2.81-2.81c.8-.78.8-2.07 0-2.86zM5.41 20L4 18.59l7.72-7.72 1.47 1.35L5.41 20z\"/>\n",
              "  </svg>\n",
              "      </button>\n",
              "      \n",
              "  <style>\n",
              "    .colab-df-container {\n",
              "      display:flex;\n",
              "      flex-wrap:wrap;\n",
              "      gap: 12px;\n",
              "    }\n",
              "\n",
              "    .colab-df-convert {\n",
              "      background-color: #E8F0FE;\n",
              "      border: none;\n",
              "      border-radius: 50%;\n",
              "      cursor: pointer;\n",
              "      display: none;\n",
              "      fill: #1967D2;\n",
              "      height: 32px;\n",
              "      padding: 0 0 0 0;\n",
              "      width: 32px;\n",
              "    }\n",
              "\n",
              "    .colab-df-convert:hover {\n",
              "      background-color: #E2EBFA;\n",
              "      box-shadow: 0px 1px 2px rgba(60, 64, 67, 0.3), 0px 1px 3px 1px rgba(60, 64, 67, 0.15);\n",
              "      fill: #174EA6;\n",
              "    }\n",
              "\n",
              "    [theme=dark] .colab-df-convert {\n",
              "      background-color: #3B4455;\n",
              "      fill: #D2E3FC;\n",
              "    }\n",
              "\n",
              "    [theme=dark] .colab-df-convert:hover {\n",
              "      background-color: #434B5C;\n",
              "      box-shadow: 0px 1px 3px 1px rgba(0, 0, 0, 0.15);\n",
              "      filter: drop-shadow(0px 1px 2px rgba(0, 0, 0, 0.3));\n",
              "      fill: #FFFFFF;\n",
              "    }\n",
              "  </style>\n",
              "\n",
              "      <script>\n",
              "        const buttonEl =\n",
              "          document.querySelector('#df-578ad93c-33e4-491a-82e2-6bd9179ace22 button.colab-df-convert');\n",
              "        buttonEl.style.display =\n",
              "          google.colab.kernel.accessAllowed ? 'block' : 'none';\n",
              "\n",
              "        async function convertToInteractive(key) {\n",
              "          const element = document.querySelector('#df-578ad93c-33e4-491a-82e2-6bd9179ace22');\n",
              "          const dataTable =\n",
              "            await google.colab.kernel.invokeFunction('convertToInteractive',\n",
              "                                                     [key], {});\n",
              "          if (!dataTable) return;\n",
              "\n",
              "          const docLinkHtml = 'Like what you see? Visit the ' +\n",
              "            '<a target=\"_blank\" href=https://colab.research.google.com/notebooks/data_table.ipynb>data table notebook</a>'\n",
              "            + ' to learn more about interactive tables.';\n",
              "          element.innerHTML = '';\n",
              "          dataTable['output_type'] = 'display_data';\n",
              "          await google.colab.output.renderOutput(dataTable, element);\n",
              "          const docLink = document.createElement('div');\n",
              "          docLink.innerHTML = docLinkHtml;\n",
              "          element.appendChild(docLink);\n",
              "        }\n",
              "      </script>\n",
              "    </div>\n",
              "  </div>\n",
              "  "
            ]
          },
          "metadata": {},
          "execution_count": 257
        }
      ],
      "source": [
        "# convert categorical data with pandas.get_dummies()\n",
        "result_train = pd.get_dummies(result_train, drop_first = True)\n",
        "result_test = pd.get_dummies(result_test, drop_first = True)\n",
        "result_train.head()"
      ]
    },
    {
      "cell_type": "markdown",
      "source": [
        ""
      ],
      "metadata": {
        "id": "Os58qg6uYLa0"
      }
    },
    {
      "cell_type": "markdown",
      "metadata": {
        "id": "ZkIfkvPMWi0G"
      },
      "source": [
        "# Logistic Regression Model\n",
        "## Train Test Split"
      ]
    },
    {
      "cell_type": "code",
      "execution_count": 258,
      "metadata": {
        "id": "t6WoGNzoWi0H"
      },
      "outputs": [],
      "source": [
        "# split the test\n",
        "xTrain, xTest, yTrain, yTest = train_test_split(result_train.drop(['Survived'], axis = 1), result_train['Survived'], test_size = 0.30, random_state = 42)"
      ]
    },
    {
      "cell_type": "markdown",
      "metadata": {
        "id": "-zsLcQi-Wi0H"
      },
      "source": [
        "## Training and Predicting\n",
        "\n",
        "Train a Logistic Regression model with the training data. "
      ]
    },
    {
      "cell_type": "code",
      "execution_count": 259,
      "metadata": {
        "colab": {
          "base_uri": "https://localhost:8080/"
        },
        "id": "sfI3BGb_Wi0I",
        "outputId": "009de018-2e46-4da1-915c-9f38bf9f60bd"
      },
      "outputs": [
        {
          "output_type": "stream",
          "name": "stderr",
          "text": [
            "/usr/local/lib/python3.7/dist-packages/sklearn/linear_model/_logistic.py:818: ConvergenceWarning: lbfgs failed to converge (status=1):\n",
            "STOP: TOTAL NO. of ITERATIONS REACHED LIMIT.\n",
            "\n",
            "Increase the number of iterations (max_iter) or scale the data as shown in:\n",
            "    https://scikit-learn.org/stable/modules/preprocessing.html\n",
            "Please also refer to the documentation for alternative solver options:\n",
            "    https://scikit-learn.org/stable/modules/linear_model.html#logistic-regression\n",
            "  extra_warning_msg=_LOGISTIC_SOLVER_CONVERGENCE_MSG,\n"
          ]
        }
      ],
      "source": [
        "# Train a Logistic Regression model with the training data\n",
        "L_R = LogisticRegression(penalty = 'l2', dual = False, tol = 0.0001, C = 6, fit_intercept = True, intercept_scaling = 1, class_weight = None)\n",
        "L_R.fit(xTrain, yTrain)\n",
        "test_predict = L_R.predict(xTest)"
      ]
    },
    {
      "cell_type": "markdown",
      "metadata": {
        "id": "8Z8__N2hWi0I"
      },
      "source": [
        "## Evaluation"
      ]
    },
    {
      "cell_type": "markdown",
      "metadata": {
        "id": "EXncWOaZWi0I"
      },
      "source": [
        "Compute precision, recall, f1-score. Use the classification report from sklearn.metrics."
      ]
    },
    {
      "cell_type": "code",
      "execution_count": 260,
      "metadata": {
        "colab": {
          "base_uri": "https://localhost:8080/"
        },
        "id": "L60aXpa-Wi0J",
        "outputId": "5f810f5c-5092-49f5-a9c4-2e17c6655fb3"
      },
      "outputs": [
        {
          "output_type": "stream",
          "name": "stdout",
          "text": [
            "              precision    recall  f1-score   support\n",
            "\n",
            "           0       0.82      0.87      0.84       157\n",
            "           1       0.79      0.73      0.76       111\n",
            "\n",
            "    accuracy                           0.81       268\n",
            "   macro avg       0.81      0.80      0.80       268\n",
            "weighted avg       0.81      0.81      0.81       268\n",
            "\n"
          ]
        }
      ],
      "source": [
        "# Use the classification report\n",
        "print(classification_report(yTest,test_predict))"
      ]
    },
    {
      "cell_type": "markdown",
      "metadata": {
        "id": "twdPRZGqWi0J"
      },
      "source": [
        "# Support Vector Machines"
      ]
    },
    {
      "cell_type": "markdown",
      "metadata": {
        "id": "KBYJwPsZWi0J"
      },
      "source": [
        "## Train a Support Vector Classifier"
      ]
    },
    {
      "cell_type": "code",
      "execution_count": 261,
      "metadata": {
        "colab": {
          "base_uri": "https://localhost:8080/"
        },
        "id": "Rz-gqiaXWi0K",
        "outputId": "0ceba4a3-3fd4-45e5-a413-c830b18d441e"
      },
      "outputs": [
        {
          "output_type": "stream",
          "name": "stdout",
          "text": [
            "[[148   9]\n",
            " [ 82  29]]\n",
            "              precision    recall  f1-score   support\n",
            "\n",
            "           0       0.64      0.94      0.76       157\n",
            "           1       0.76      0.26      0.39       111\n",
            "\n",
            "    accuracy                           0.66       268\n",
            "   macro avg       0.70      0.60      0.58       268\n",
            "weighted avg       0.69      0.66      0.61       268\n",
            "\n"
          ]
        }
      ],
      "source": [
        "# Train a Support Vector Classifier\n",
        "svc_model = SVC()\n",
        "svc_model.fit(xTrain, yTrain)\n",
        "print(confusion_matrix(yTest,svc_model.predict(xTest)))\n",
        "print(classification_report(yTest,svc_model.predict(xTest)))"
      ]
    },
    {
      "cell_type": "markdown",
      "metadata": {
        "id": "ki1jBf2PWi0K"
      },
      "source": [
        "## Gridsearch Practice\n",
        "Apply GridSearch to find the optimal values of C and gamma. Create a GridSearchCV object and fit it to the training data."
      ]
    },
    {
      "cell_type": "code",
      "execution_count": 262,
      "metadata": {
        "colab": {
          "base_uri": "https://localhost:8080/"
        },
        "id": "eGyegjlkWi0K",
        "outputId": "3e07a08a-9571-4e88-ed52-14265a234c2f"
      },
      "outputs": [
        {
          "output_type": "stream",
          "name": "stdout",
          "text": [
            "Fitting 5 folds for each of 84 candidates, totalling 420 fits\n"
          ]
        },
        {
          "output_type": "execute_result",
          "data": {
            "text/plain": [
              "GridSearchCV(estimator=SVC(),\n",
              "             param_grid={'C': [0.003, 0.01, 0.03, 0.1, 0.3, 1, 3, 10, 30, 100,\n",
              "                               300, 1000],\n",
              "                         'gamma': [100, 10, 1, 0.1, 0.01, 0.001, 0.0001]},\n",
              "             scoring='accuracy', verbose=1)"
            ]
          },
          "metadata": {},
          "execution_count": 262
        }
      ],
      "source": [
        "# Apply GridSearch to find the optimal values of C and gamma\n",
        "param_grid = {'C': [0.003, 0.01, 0.03, 0.1, 0.3, 1, 3, 10, 30, 100, 300, 1000], 'gamma': [100,10,1,0.1,0.01,0.001,0.0001]}\n",
        "\n",
        "# Create a GridSearchCV object\n",
        "grid = GridSearchCV(SVC(), param_grid, scoring = 'accuracy', refit = True, verbose = 1)\n",
        "grid.fit(result_train.drop(['Survived'], axis = 1), result_train['Survived'])"
      ]
    },
    {
      "cell_type": "code",
      "execution_count": 263,
      "metadata": {
        "colab": {
          "base_uri": "https://localhost:8080/"
        },
        "id": "2-Wt9m1zWi0K",
        "outputId": "e9e88271-f455-4d04-cfd0-7b1e9d4e6d6d"
      },
      "outputs": [
        {
          "output_type": "stream",
          "name": "stdout",
          "text": [
            "{'C': 300, 'gamma': 0.001}\n",
            "SVC(C=300, gamma=0.001)\n",
            "the number of cross-validation splits (folds or iterations) is:  5\n",
            "the mean cross-validated score of the best_estimator is:  0.796874019207834\n"
          ]
        }
      ],
      "source": [
        "# print grid result\n",
        "print(grid.best_params_)\n",
        "print(grid.best_estimator_)\n",
        "\n",
        "# print Mean cross-validated score and The number of cross-validation splits\n",
        "print('the number of cross-validation splits (folds or iterations) is: ', grid.n_splits_)\n",
        "print('the mean cross-validated score of the best_estimator is: ', grid.best_score_)"
      ]
    },
    {
      "cell_type": "markdown",
      "metadata": {
        "id": "-xt0WCoRWi0L"
      },
      "source": [
        "## Evaluation\n",
        "\n",
        "Evaluate the grid model by computing the precision, recall and f1-score. Use the classification report from sklearn.metrics."
      ]
    },
    {
      "cell_type": "code",
      "execution_count": 264,
      "metadata": {
        "colab": {
          "base_uri": "https://localhost:8080/"
        },
        "id": "q56cuplBWi0L",
        "outputId": "9f4f516c-53c8-4c8e-8023-8a60d9b409d4"
      },
      "outputs": [
        {
          "output_type": "stream",
          "name": "stdout",
          "text": [
            "[[137  20]\n",
            " [ 35  76]]\n",
            "              precision    recall  f1-score   support\n",
            "\n",
            "           0       0.80      0.87      0.83       157\n",
            "           1       0.79      0.68      0.73       111\n",
            "\n",
            "    accuracy                           0.79       268\n",
            "   macro avg       0.79      0.78      0.78       268\n",
            "weighted avg       0.79      0.79      0.79       268\n",
            "\n"
          ]
        }
      ],
      "source": [
        "# Use the classification report from sklearn.metrics.\n",
        "svc_model = SVC(C = 300, gamma = 0.001)\n",
        "svc_model.fit(xTrain, yTrain)\n",
        "print(confusion_matrix(yTest,svc_model.predict(xTest)))\n",
        "print(classification_report(yTest,svc_model.predict(xTest)))"
      ]
    },
    {
      "cell_type": "markdown",
      "metadata": {
        "id": "n_QnMZ78Wi0L"
      },
      "source": [
        "## OPEN END QUESTION\n",
        "Compare the performance of the logistic regression model and SVM in two paragraphs. Which one is performing better? Why? \n",
        "\n"
      ]
    },
    {
      "cell_type": "markdown",
      "metadata": {
        "id": "rBG-1u6JWi0L"
      },
      "source": [
        "The Logistic regression is an algorithm that is used in solving classification problems. It is a predictive analysis way to describes data and explains the relationship between variables. Logistic regression is applied to an input variable (X) where the output variable (y) is a discrete value which ranges between 1 (yes) and 0 (no).It uses logistic (sigmoid) function to find the relationship between variables. The sigmoid function is an S-shaped curve that can take any real-valued number and map it to a value between 0 and 1, but never exactly at those limits.\n",
        "\n",
        "The support vector machine(SVM) is a model used for both classification and regression problems though it is mostly used to solve classification problems. The algorithm creates a hyperplane or line(decision boundary) which separates data into classes. It uses the kernel trick to find the best line separator (decision boundary that has same distance from the boundary point of both classes). It is a clear and more powerful way of learning complex non-linear functions.\n",
        "\n",
        "SVM tries to finds the “best” margin (distance between the line and the support vectors) that separates the classes and this reduces the risk of error on the data, while logistic regression does not, instead it can have different decision boundaries with different weights that are near the optimal point. SVM works well with unstructured and semi-structured data like text and images while logistic regression works with already identified independent variables.\n",
        "SVM is based on geometrical properties of the data while logistic regression is based on statistical approaches. The risk of overfitting is less in SVM, while Logistic regression is vulnerable to overfitting.\n",
        "\n",
        "Depending on the number of training sets (data)/features that we have, we can use either logistic regression or support vector machine(We can assume that n = the number of features and m = the number of training examples):\n",
        "1. If n is large (1–10,000) and m is small (10–1000) : use logistic regression or SVM with a linear kernel.\n",
        "2. If n is small (1–10 00) and m is intermediate (10–10,000) : use SVM with (Gaussian, polynomial etc) kernel\n",
        "3. If n is small (1–10 00), m is large (50,000–1,000,000+): first, manually add more features and then use logistic regression or SVM with a linear kernel\n",
        "\n",
        "In conclusion, it is usually advisable to try to use logistic regression first to see how the model does, if it fails then we should try using SVM without a kernel (is otherwise known as SVM with a linear kernel). Logistic regression and SVM with a linear kernel have similar performance but depending on the features we need, one may be more efficient than the other."
      ]
    },
    {
      "cell_type": "code",
      "source": [
        ""
      ],
      "metadata": {
        "id": "y8M5durjcGMV"
      },
      "execution_count": 264,
      "outputs": []
    }
  ],
  "metadata": {
    "kernelspec": {
      "display_name": "Python 3",
      "language": "python",
      "name": "python3"
    },
    "language_info": {
      "codemirror_mode": {
        "name": "ipython",
        "version": 3
      },
      "file_extension": ".py",
      "mimetype": "text/x-python",
      "name": "python",
      "nbconvert_exporter": "python",
      "pygments_lexer": "ipython3",
      "version": "3.9.2"
    },
    "colab": {
      "name": "Classification Project.ipynb",
      "provenance": [],
      "collapsed_sections": []
    }
  },
  "nbformat": 4,
  "nbformat_minor": 0
}