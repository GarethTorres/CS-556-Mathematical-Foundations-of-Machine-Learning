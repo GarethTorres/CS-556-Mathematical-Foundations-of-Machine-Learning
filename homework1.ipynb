{
 "cells": [
  {
   "cell_type": "code",
   "execution_count": 11,
   "id": "7c0e6d3d",
   "metadata": {},
   "outputs": [],
   "source": [
    "import numpy as np"
   ]
  },
  {
   "cell_type": "code",
   "execution_count": 71,
   "id": "435b6b86",
   "metadata": {},
   "outputs": [],
   "source": [
    "firstarray = np.array([[0,1,3,7],\n",
    "                      [4,8,0,2]])"
   ]
  },
  {
   "cell_type": "code",
   "execution_count": 72,
   "id": "932b7c9e",
   "metadata": {},
   "outputs": [],
   "source": [
    "firstarray_shape = firstarray.shape"
   ]
  },
  {
   "cell_type": "code",
   "execution_count": 73,
   "id": "7876c89f",
   "metadata": {},
   "outputs": [
    {
     "name": "stdout",
     "output_type": "stream",
     "text": [
      "The array is:\n",
      " [[0 1 3 7]\n",
      " [4 8 0 2]]\n"
     ]
    }
   ],
   "source": [
    "print(\"The array is:\\n\", firstarray)"
   ]
  },
  {
   "cell_type": "code",
   "execution_count": 74,
   "id": "c8a3e8a0",
   "metadata": {},
   "outputs": [
    {
     "name": "stdout",
     "output_type": "stream",
     "text": [
      "The shape of the array is: (2, 4)\n"
     ]
    }
   ],
   "source": [
    "print(\"The shape of the array is:\", firstarray_shape)\n",
    "#question 1#"
   ]
  },
  {
   "cell_type": "code",
   "execution_count": 75,
   "id": "a57876c8",
   "metadata": {},
   "outputs": [],
   "source": [
    "non_zero_elements = firstarray.ravel()[np.flatnonzero(firstarray)]"
   ]
  },
  {
   "cell_type": "code",
   "execution_count": 76,
   "id": "151e0dcb",
   "metadata": {},
   "outputs": [
    {
     "name": "stdout",
     "output_type": "stream",
     "text": [
      "The number of non zero elements in the array are: [1 3 7 4 8 2]\n"
     ]
    }
   ],
   "source": [
    "print(\"The number of non zero elements in the array are:\", non_zero_elements)\n",
    "#question 2.1#"
   ]
  },
  {
   "cell_type": "code",
   "execution_count": 77,
   "id": "b0ff1ec3",
   "metadata": {},
   "outputs": [],
   "source": [
    "array_after_delete = np.delete(firstarray, [2,4],axis=None)"
   ]
  },
  {
   "cell_type": "code",
   "execution_count": 78,
   "id": "68237be1",
   "metadata": {},
   "outputs": [],
   "source": [
    "array_after_delete.resize((2, 3))"
   ]
  },
  {
   "cell_type": "code",
   "execution_count": 79,
   "id": "2ac787fe",
   "metadata": {},
   "outputs": [
    {
     "name": "stdout",
     "output_type": "stream",
     "text": [
      "The array after deleting the elements at index 2 and 4 is:\n",
      " [[0 1 7]\n",
      " [8 0 2]]\n"
     ]
    }
   ],
   "source": [
    "print(\"The array after deleting the elements at index 2 and 4 is:\\n\", array_after_delete)\n",
    "#question 2.2#"
   ]
  },
  {
   "cell_type": "code",
   "execution_count": 80,
   "id": "752e83be",
   "metadata": {},
   "outputs": [],
   "source": [
    "array_after_insert_step1 = np.insert(array_after_delete,2,5,axis=None)"
   ]
  },
  {
   "cell_type": "code",
   "execution_count": 81,
   "id": "cb28eb2d",
   "metadata": {},
   "outputs": [],
   "source": [
    "array_after_insert = np.insert(array_after_insert_step1,4,9,axis=None)"
   ]
  },
  {
   "cell_type": "code",
   "execution_count": 82,
   "id": "7dace23b",
   "metadata": {},
   "outputs": [],
   "source": [
    "array_after_insert.resize((2, 4))"
   ]
  },
  {
   "cell_type": "code",
   "execution_count": 83,
   "id": "9ca04c42",
   "metadata": {},
   "outputs": [
    {
     "name": "stdout",
     "output_type": "stream",
     "text": [
      "The array after inserting 5 and 9 is:\n",
      " [[0 1 5 7]\n",
      " [9 8 0 2]]\n"
     ]
    }
   ],
   "source": [
    "print(\"The array after inserting 5 and 9 is:\\n\", array_after_insert)\n",
    "#question 2.3#"
   ]
  },
  {
   "cell_type": "code",
   "execution_count": 84,
   "id": "d8c2a4b2",
   "metadata": {},
   "outputs": [],
   "source": [
    "mag_of_vector1 = np.sqrt(sum(i**2 for i in [0,1,3,7]))"
   ]
  },
  {
   "cell_type": "code",
   "execution_count": 85,
   "id": "c66f5686",
   "metadata": {},
   "outputs": [
    {
     "name": "stdout",
     "output_type": "stream",
     "text": [
      "The magnitude of vector 1 is = 7.681145747868608\n"
     ]
    }
   ],
   "source": [
    "print(\"The magnitude of vector 1 is =\", mag_of_vector1)"
   ]
  },
  {
   "cell_type": "code",
   "execution_count": 86,
   "id": "0e171e10",
   "metadata": {},
   "outputs": [],
   "source": [
    "mag_of_vector2 = np.sqrt(sum(i**2 for i in [4,8,0,2]))"
   ]
  },
  {
   "cell_type": "code",
   "execution_count": 87,
   "id": "db51a35b",
   "metadata": {},
   "outputs": [
    {
     "name": "stdout",
     "output_type": "stream",
     "text": [
      "The magnitude of vector 2 is = 9.16515138991168\n"
     ]
    }
   ],
   "source": [
    "print(\"The magnitude of vector 2 is =\", mag_of_vector2)\n",
    "#question 2.4#"
   ]
  },
  {
   "cell_type": "code",
   "execution_count": 88,
   "id": "489b228d",
   "metadata": {},
   "outputs": [],
   "source": [
    "matrix1 = np.matrix([[4,3],[2,6]])"
   ]
  },
  {
   "cell_type": "code",
   "execution_count": 89,
   "id": "3b1859da",
   "metadata": {},
   "outputs": [],
   "source": [
    "matrix2 = np.matrix([[6,5],[7,8]])"
   ]
  },
  {
   "cell_type": "code",
   "execution_count": 90,
   "id": "9aa99523",
   "metadata": {},
   "outputs": [
    {
     "name": "stdout",
     "output_type": "stream",
     "text": [
      "The first matrix is:\n",
      " [[4 3]\n",
      " [2 6]]\n"
     ]
    }
   ],
   "source": [
    "print(\"The first matrix is:\\n\", matrix1)"
   ]
  },
  {
   "cell_type": "code",
   "execution_count": 91,
   "id": "63d7e149",
   "metadata": {},
   "outputs": [
    {
     "name": "stdout",
     "output_type": "stream",
     "text": [
      "\n",
      "The second matrix is:\n",
      " [[6 5]\n",
      " [7 8]]\n"
     ]
    }
   ],
   "source": [
    "print(\"\\nThe second matrix is:\\n\", matrix2)\n",
    "#question 3.1#"
   ]
  },
  {
   "cell_type": "code",
   "execution_count": 92,
   "id": "2fa75c08",
   "metadata": {},
   "outputs": [],
   "source": [
    "det_1 = int(np.linalg.det(matrix1))"
   ]
  },
  {
   "cell_type": "code",
   "execution_count": 93,
   "id": "75266893",
   "metadata": {},
   "outputs": [],
   "source": [
    "det_2 = int(np.linalg.det(matrix2))"
   ]
  },
  {
   "cell_type": "code",
   "execution_count": 94,
   "id": "768ca3d4",
   "metadata": {},
   "outputs": [
    {
     "name": "stdout",
     "output_type": "stream",
     "text": [
      "The determinant of matrix 1 is: 17\n"
     ]
    }
   ],
   "source": [
    "print(\"The determinant of matrix 1 is:\", det_1)"
   ]
  },
  {
   "cell_type": "code",
   "execution_count": 95,
   "id": "a6ccafb4",
   "metadata": {},
   "outputs": [
    {
     "name": "stdout",
     "output_type": "stream",
     "text": [
      "The determinant of matrix 2 is: 12\n"
     ]
    }
   ],
   "source": [
    "print(\"The determinant of matrix 2 is:\", det_2)\n",
    "#question 3.2#"
   ]
  },
  {
   "cell_type": "code",
   "execution_count": 96,
   "id": "5cd4c2e7",
   "metadata": {},
   "outputs": [],
   "source": [
    "dot_product = np.dot(matrix1,matrix2)"
   ]
  },
  {
   "cell_type": "code",
   "execution_count": 97,
   "id": "07049142",
   "metadata": {},
   "outputs": [
    {
     "name": "stdout",
     "output_type": "stream",
     "text": [
      "The dot product of the 2 matrices is:\n",
      " [[45 44]\n",
      " [54 58]]\n"
     ]
    }
   ],
   "source": [
    "print(\"The dot product of the 2 matrices is:\\n\", dot_product)\n",
    "#question 3.3#"
   ]
  },
  {
   "cell_type": "code",
   "execution_count": 98,
   "id": "b1cdd14f",
   "metadata": {},
   "outputs": [],
   "source": [
    "sorted_dot_product = np.sort(dot_product)"
   ]
  },
  {
   "cell_type": "code",
   "execution_count": 99,
   "id": "d825976b",
   "metadata": {},
   "outputs": [
    {
     "name": "stdout",
     "output_type": "stream",
     "text": [
      "The sorted dot product is:\n",
      " [[44 45]\n",
      " [54 58]]\n"
     ]
    }
   ],
   "source": [
    "print(\"The sorted dot product is:\\n\", sorted_dot_product)\n",
    "#question 3.4#"
   ]
  },
  {
   "cell_type": "code",
   "execution_count": 100,
   "id": "8aa4f169",
   "metadata": {},
   "outputs": [],
   "source": [
    "transpose_1 = np.transpose(matrix1)"
   ]
  },
  {
   "cell_type": "code",
   "execution_count": 101,
   "id": "05d0b954",
   "metadata": {},
   "outputs": [],
   "source": [
    "transpose_2 = np.transpose(matrix2)"
   ]
  },
  {
   "cell_type": "code",
   "execution_count": 102,
   "id": "0e1604a5",
   "metadata": {},
   "outputs": [
    {
     "name": "stdout",
     "output_type": "stream",
     "text": [
      "The transpose of the first matrix is:\n",
      " [[4 2]\n",
      " [3 6]]\n"
     ]
    }
   ],
   "source": [
    "print(\"The transpose of the first matrix is:\\n\", transpose_1)"
   ]
  },
  {
   "cell_type": "code",
   "execution_count": 103,
   "id": "41ece676",
   "metadata": {},
   "outputs": [
    {
     "name": "stdout",
     "output_type": "stream",
     "text": [
      "\n",
      "The transpose of the second matrix is:\n",
      " [[6 7]\n",
      " [5 8]]\n"
     ]
    }
   ],
   "source": [
    "print(\"\\nThe transpose of the second matrix is:\\n\", transpose_2)\n",
    "#question 3.5#"
   ]
  },
  {
   "cell_type": "code",
   "execution_count": 104,
   "id": "1b4a8b17",
   "metadata": {},
   "outputs": [],
   "source": [
    "new_array = np.arange(9)"
   ]
  },
  {
   "cell_type": "code",
   "execution_count": 105,
   "id": "e90df73a",
   "metadata": {},
   "outputs": [
    {
     "name": "stdout",
     "output_type": "stream",
     "text": [
      "The new 1-D array is:\n",
      " [0 1 2 3 4 5 6 7 8]\n"
     ]
    }
   ],
   "source": [
    "print(\"The new 1-D array is:\\n\", new_array)\n",
    "#question 4.1#"
   ]
  },
  {
   "cell_type": "code",
   "execution_count": 106,
   "id": "b92f0343",
   "metadata": {},
   "outputs": [],
   "source": [
    "cube_array = np.power(new_array,3)"
   ]
  },
  {
   "cell_type": "code",
   "execution_count": 107,
   "id": "a7fd85bc",
   "metadata": {},
   "outputs": [
    {
     "name": "stdout",
     "output_type": "stream",
     "text": [
      "The cube of each number of the original array is:\n",
      " [  0   1   8  27  64 125 216 343 512]\n"
     ]
    }
   ],
   "source": [
    "print(\"The cube of each number of the original array is:\\n\", cube_array)\n",
    "#question 4.2#"
   ]
  },
  {
   "cell_type": "code",
   "execution_count": 108,
   "id": "ab967162",
   "metadata": {},
   "outputs": [],
   "source": [
    "thirdarray = np.array([[20, 10, 40], \n",
    "                       [30, 70, 50]])"
   ]
  },
  {
   "cell_type": "code",
   "execution_count": 109,
   "id": "0225f529",
   "metadata": {},
   "outputs": [
    {
     "name": "stdout",
     "output_type": "stream",
     "text": [
      "The array is:\n",
      " [[20 10 40]\n",
      " [30 70 50]]\n"
     ]
    }
   ],
   "source": [
    "print(\"The array is:\\n\", thirdarray)\n",
    "#question 4.3#"
   ]
  },
  {
   "cell_type": "code",
   "execution_count": 110,
   "id": "9699875e",
   "metadata": {},
   "outputs": [],
   "source": [
    "mean_rows = thirdarray.mean(axis=1)"
   ]
  },
  {
   "cell_type": "code",
   "execution_count": 111,
   "id": "bab17f7d",
   "metadata": {},
   "outputs": [],
   "source": [
    "mean_columns = thirdarray.mean(axis=0)"
   ]
  },
  {
   "cell_type": "code",
   "execution_count": 112,
   "id": "b33f1cd9",
   "metadata": {},
   "outputs": [
    {
     "name": "stdout",
     "output_type": "stream",
     "text": [
      "The means of the rows are:\n",
      " [23.33333333 50.        ]\n"
     ]
    }
   ],
   "source": [
    "print(\"The means of the rows are:\\n\", mean_rows)"
   ]
  },
  {
   "cell_type": "code",
   "execution_count": 113,
   "id": "06d793a0",
   "metadata": {},
   "outputs": [
    {
     "name": "stdout",
     "output_type": "stream",
     "text": [
      "\n",
      "The means of the columns are:\n",
      " [25. 40. 45.]\n"
     ]
    }
   ],
   "source": [
    "print(\"\\nThe means of the columns are:\\n\", mean_columns)\n",
    "#question 4.4#"
   ]
  },
  {
   "cell_type": "code",
   "execution_count": 114,
   "id": "477b61bf",
   "metadata": {},
   "outputs": [],
   "source": [
    "mat1 = np.matrix([[1,2,0],[3,-1,2],[-2,3,-2]])"
   ]
  },
  {
   "cell_type": "code",
   "execution_count": 115,
   "id": "03700048",
   "metadata": {},
   "outputs": [],
   "source": [
    "mat2 = np.matrix([[ 5, -6, 6],[ 0, 7, 3],[-1, 8, 1]])"
   ]
  },
  {
   "cell_type": "code",
   "execution_count": 116,
   "id": "31f3343c",
   "metadata": {},
   "outputs": [
    {
     "name": "stdout",
     "output_type": "stream",
     "text": [
      "The first matrix is:\n",
      " [[ 1  2  0]\n",
      " [ 3 -1  2]\n",
      " [-2  3 -2]]\n"
     ]
    }
   ],
   "source": [
    "print(\"The first matrix is:\\n\", mat1)"
   ]
  },
  {
   "cell_type": "code",
   "execution_count": 117,
   "id": "5d3a2470",
   "metadata": {},
   "outputs": [
    {
     "name": "stdout",
     "output_type": "stream",
     "text": [
      "\n",
      "The second matrix is:\n",
      " [[ 5 -6  6]\n",
      " [ 0  7  3]\n",
      " [-1  8  1]]\n"
     ]
    }
   ],
   "source": [
    "print(\"\\nThe second matrix is:\\n\", mat2)\n",
    "#question 5.1#"
   ]
  },
  {
   "cell_type": "code",
   "execution_count": 118,
   "id": "43afff3c",
   "metadata": {},
   "outputs": [
    {
     "name": "stdout",
     "output_type": "stream",
     "text": [
      "Is the mat1 are invertible?:  False\n"
     ]
    }
   ],
   "source": [
    "print('Is the mat1 are invertible?: ', (int(np.linalg.det(mat1))!=0))"
   ]
  },
  {
   "cell_type": "code",
   "execution_count": 119,
   "id": "e335ec30",
   "metadata": {},
   "outputs": [
    {
     "name": "stdout",
     "output_type": "stream",
     "text": [
      "Is the mat2 are invertible?:  True\n"
     ]
    }
   ],
   "source": [
    "print('Is the mat2 are invertible?: ', (int(np.linalg.det(mat2))!=0))\n",
    "#question 5.2#"
   ]
  },
  {
   "cell_type": "code",
   "execution_count": 120,
   "id": "80c6e270",
   "metadata": {},
   "outputs": [],
   "source": [
    "from numpy.linalg import inv"
   ]
  },
  {
   "cell_type": "code",
   "execution_count": 121,
   "id": "6107b9a4",
   "metadata": {},
   "outputs": [
    {
     "name": "stdout",
     "output_type": "stream",
     "text": [
      "can't be inverse\n"
     ]
    }
   ],
   "source": [
    "if(int(np.linalg.det(mat1))!=0):\n",
    "    inv1 = np.linalg.inv(mat1)\n",
    "else:\n",
    "    print(\"can't be inverse\")"
   ]
  },
  {
   "cell_type": "code",
   "execution_count": 122,
   "id": "aba2206d",
   "metadata": {},
   "outputs": [],
   "source": [
    "inv2 = np.linalg.inv(mat2)"
   ]
  },
  {
   "cell_type": "code",
   "execution_count": 123,
   "id": "264a50d2",
   "metadata": {},
   "outputs": [
    {
     "name": "stdout",
     "output_type": "stream",
     "text": [
      "Inverse for mat2 is: [[ 0.68 -2.16  2.4 ]\n",
      " [ 0.12 -0.44  0.6 ]\n",
      " [-0.28  1.36 -1.4 ]]\n"
     ]
    }
   ],
   "source": [
    "print(\"Inverse for mat2 is:\", inv2)\n",
    "#question 5.3#"
   ]
  },
  {
   "cell_type": "code",
   "execution_count": 124,
   "id": "94ee5e2b",
   "metadata": {},
   "outputs": [],
   "source": [
    "first_col = inv2[...,0]"
   ]
  },
  {
   "cell_type": "code",
   "execution_count": 125,
   "id": "fedddf8b",
   "metadata": {},
   "outputs": [
    {
     "name": "stdout",
     "output_type": "stream",
     "text": [
      "The first column of the inverted matrix is: [[ 0.68]\n",
      " [ 0.12]\n",
      " [-0.28]]\n"
     ]
    }
   ],
   "source": [
    "print(\"The first column of the inverted matrix is:\", first_col)\n",
    "#question 5.4#"
   ]
  },
  {
   "cell_type": "code",
   "execution_count": 126,
   "id": "72a5793d",
   "metadata": {},
   "outputs": [],
   "source": [
    "m1 = np.matrix([[5, -10],[-4, 9]],dtype=np.float)"
   ]
  },
  {
   "cell_type": "code",
   "execution_count": 127,
   "id": "9b649db6",
   "metadata": {},
   "outputs": [],
   "source": [
    "m2 = np.matrix([[-5, -10],[11, 14]],dtype=np.float)"
   ]
  },
  {
   "cell_type": "code",
   "execution_count": 128,
   "id": "64e88dcd",
   "metadata": {},
   "outputs": [
    {
     "name": "stdout",
     "output_type": "stream",
     "text": [
      "The first matrix is:\n",
      " [[  5. -10.]\n",
      " [ -4.   9.]]\n"
     ]
    }
   ],
   "source": [
    "print(\"The first matrix is:\\n\", m1)"
   ]
  },
  {
   "cell_type": "code",
   "execution_count": 129,
   "id": "04b025b1",
   "metadata": {},
   "outputs": [
    {
     "name": "stdout",
     "output_type": "stream",
     "text": [
      "\n",
      "The second matrix is:\n",
      " [[ -5. -10.]\n",
      " [ 11.  14.]]\n"
     ]
    }
   ],
   "source": [
    "print(\"\\nThe second matrix is:\\n\", m2)\n",
    "#question 6.1#"
   ]
  },
  {
   "cell_type": "code",
   "execution_count": 130,
   "id": "76bcf0b7",
   "metadata": {},
   "outputs": [],
   "source": [
    "matrix_mul = np.dot(m1,m2)"
   ]
  },
  {
   "cell_type": "code",
   "execution_count": 131,
   "id": "0e8f94ef",
   "metadata": {},
   "outputs": [
    {
     "name": "stdout",
     "output_type": "stream",
     "text": [
      "m1 x m2 = \n",
      " [[-135. -190.]\n",
      " [ 119.  166.]]\n"
     ]
    }
   ],
   "source": [
    "print(\"m1 x m2 = \\n\", matrix_mul)\n",
    "#question 6.2#"
   ]
  },
  {
   "cell_type": "code",
   "execution_count": 132,
   "id": "026102f4",
   "metadata": {},
   "outputs": [],
   "source": [
    "elem_mul = np.multiply(m1,m2)"
   ]
  },
  {
   "cell_type": "code",
   "execution_count": 133,
   "id": "7b47b284",
   "metadata": {},
   "outputs": [
    {
     "name": "stdout",
     "output_type": "stream",
     "text": [
      "Element wise product =  [[-25. 100.]\n",
      " [-44. 126.]]\n"
     ]
    }
   ],
   "source": [
    "print(\"Element wise product = \", elem_mul)\n",
    "#question 6.3#"
   ]
  },
  {
   "cell_type": "code",
   "execution_count": 134,
   "id": "b264b1c0",
   "metadata": {},
   "outputs": [],
   "source": [
    "sqr_root = np.sqrt([[43,9],[22,34]])"
   ]
  },
  {
   "cell_type": "code",
   "execution_count": 135,
   "id": "d35ffaf1",
   "metadata": {},
   "outputs": [
    {
     "name": "stdout",
     "output_type": "stream",
     "text": [
      "The square root is =  [[6.55743852 3.        ]\n",
      " [4.69041576 5.83095189]]\n"
     ]
    }
   ],
   "source": [
    "print(\"The square root is = \", sqr_root)\n",
    "#question 6.4#"
   ]
  },
  {
   "cell_type": "code",
   "execution_count": 31,
   "id": "2488a554",
   "metadata": {},
   "outputs": [
    {
     "name": "stdout",
     "output_type": "stream",
     "text": [
      "[[0, 1, 2], [3, 4, 5], [6, 7, 8], [9, 10, 11]]\n"
     ]
    }
   ],
   "source": [
    "def reshape(L,m,n):\n",
    "# reshape L into a 2d list with m-by-n elements\n",
    "    return [L[i*n:i*n+n] for i in range(0,m)]\n",
    "#part2.1#\n",
    "example1 = [0,1,2,3,4,5,6,7,8,9,10,11,12]\n",
    "example2 = 4\n",
    "example3 = 3\n",
    "print(reshape(example1,example2,example3))"
   ]
  },
  {
   "cell_type": "code",
   "execution_count": 5,
   "id": "3e6174e3",
   "metadata": {},
   "outputs": [
    {
     "name": "stdout",
     "output_type": "stream",
     "text": [
      "600613\n"
     ]
    }
   ],
   "source": [
    "def innprod(u, v):\n",
    "    # inner product of u and v\n",
    "    length_of_u = len(u)\n",
    "    length_of_v = len(v)\n",
    "    if(length_of_u!=length_of_u or length_of_u==0):\n",
    "        raise Exception(\"no inner product of u and v\")\n",
    "    res = 0\n",
    "    for i in range(length_of_u):\n",
    "        res+=(u[i] * v[i])\n",
    "    return res\n",
    "#part2.2#\n",
    "example11 =[89,2,3123,456]\n",
    "example22 =[9,62,72,822]\n",
    "print(innprod(example11,example22))"
   ]
  },
  {
   "cell_type": "code",
   "execution_count": 7,
   "id": "a66acc70",
   "metadata": {},
   "outputs": [
    {
     "name": "stdout",
     "output_type": "stream",
     "text": [
      "[[95, 254], [542, 1545], [355, 2], [4, 1545]]\n"
     ]
    }
   ],
   "source": [
    "def transpose(M):\n",
    "    # return transpose matrix\n",
    "    Number_of_row = len(M)\n",
    "    if(Number_of_row==0):\n",
    "        raise Exception(\"can't be transpose\")\n",
    "    Number_of_column = len(M[0])\n",
    "    res=[]\n",
    "    for r in range(Number_of_column):\n",
    "        res.append([])\n",
    "    for r in range(Number_of_row):\n",
    "        for c in range(Number_of_column):\n",
    "            res[c].append(M[r][c])\n",
    "    return res\n",
    "#part2.3#\n",
    "example111 =[\n",
    "    [95,542,355,4],\n",
    "    [254,1545,2,1545]\n",
    "]\n",
    "print(transpose(example111))"
   ]
  },
  {
   "cell_type": "code",
   "execution_count": 4,
   "id": "71cbc73f",
   "metadata": {},
   "outputs": [
    {
     "name": "stdout",
     "output_type": "stream",
     "text": [
      "[3270, 30348, 195, 403704]\n"
     ]
    }
   ],
   "source": [
    "def mult(A, B):\n",
    "    # product of matrices\n",
    "    length_of_A = len(A)\n",
    "    length_of_B = len(B)\n",
    "    if(length_of_A!=length_of_A or length_of_A==0):\n",
    "        raise Exception(\"no product of matrices\")\n",
    "    res = []\n",
    "    for i in range(length_of_A):\n",
    "        res.append(A[i] * B[i])\n",
    "    return res\n",
    "#part2.4#\n",
    "example1111 =[545,54,3,4536]\n",
    "example2222 =[6,562,65,89]\n",
    "print(mult(example1111,example2222))"
   ]
  }
 ],
 "metadata": {
  "kernelspec": {
   "display_name": "Python 3",
   "language": "python",
   "name": "python3"
  },
  "language_info": {
   "codemirror_mode": {
    "name": "ipython",
    "version": 3
   },
   "file_extension": ".py",
   "mimetype": "text/x-python",
   "name": "python",
   "nbconvert_exporter": "python",
   "pygments_lexer": "ipython3",
   "version": "3.6.15"
  }
 },
 "nbformat": 4,
 "nbformat_minor": 5
}
